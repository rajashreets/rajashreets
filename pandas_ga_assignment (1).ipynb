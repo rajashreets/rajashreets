{
 "cells": [
  {
   "cell_type": "code",
   "execution_count": 1,
   "id": "94238bac",
   "metadata": {},
   "outputs": [
    {
     "data": {
      "text/html": [
       "<div>\n",
       "<style scoped>\n",
       "    .dataframe tbody tr th:only-of-type {\n",
       "        vertical-align: middle;\n",
       "    }\n",
       "\n",
       "    .dataframe tbody tr th {\n",
       "        vertical-align: top;\n",
       "    }\n",
       "\n",
       "    .dataframe thead th {\n",
       "        text-align: right;\n",
       "    }\n",
       "</style>\n",
       "<table border=\"1\" class=\"dataframe\">\n",
       "  <thead>\n",
       "    <tr style=\"text-align: right;\">\n",
       "      <th></th>\n",
       "      <th>project id</th>\n",
       "      <th>name</th>\n",
       "      <th>url</th>\n",
       "      <th>category</th>\n",
       "      <th>subcategory</th>\n",
       "      <th>location</th>\n",
       "      <th>status</th>\n",
       "      <th>goal</th>\n",
       "      <th>pledged</th>\n",
       "      <th>funded percentage</th>\n",
       "      <th>backers</th>\n",
       "      <th>funded date</th>\n",
       "      <th>levels</th>\n",
       "      <th>reward levels</th>\n",
       "      <th>updates</th>\n",
       "      <th>comments</th>\n",
       "      <th>duration</th>\n",
       "    </tr>\n",
       "  </thead>\n",
       "  <tbody>\n",
       "    <tr>\n",
       "      <th>0</th>\n",
       "      <td>39409</td>\n",
       "      <td>WHILE THE TREES SLEEP</td>\n",
       "      <td>http://www.kickstarter.com/projects/emiliesaba...</td>\n",
       "      <td>Film &amp; Video</td>\n",
       "      <td>Short Film</td>\n",
       "      <td>Columbia, MO</td>\n",
       "      <td>successful</td>\n",
       "      <td>10500.0</td>\n",
       "      <td>11545.0</td>\n",
       "      <td>1.099524</td>\n",
       "      <td>66</td>\n",
       "      <td>Fri, 19 Aug 2011 19:28:17 -0000</td>\n",
       "      <td>7</td>\n",
       "      <td>$25,$50,$100,$250,$500,$1,000,$2,500</td>\n",
       "      <td>10</td>\n",
       "      <td>2</td>\n",
       "      <td>30.00</td>\n",
       "    </tr>\n",
       "    <tr>\n",
       "      <th>1</th>\n",
       "      <td>126581</td>\n",
       "      <td>Educational Online Trading Card Game</td>\n",
       "      <td>http://www.kickstarter.com/projects/972789543/...</td>\n",
       "      <td>Games</td>\n",
       "      <td>Board &amp; Card Games</td>\n",
       "      <td>Maplewood, NJ</td>\n",
       "      <td>failed</td>\n",
       "      <td>4000.0</td>\n",
       "      <td>20.0</td>\n",
       "      <td>0.005000</td>\n",
       "      <td>2</td>\n",
       "      <td>Mon, 02 Aug 2010 03:59:00 -0000</td>\n",
       "      <td>5</td>\n",
       "      <td>$1,$5,$10,$25,$50</td>\n",
       "      <td>6</td>\n",
       "      <td>0</td>\n",
       "      <td>47.18</td>\n",
       "    </tr>\n",
       "    <tr>\n",
       "      <th>2</th>\n",
       "      <td>138119</td>\n",
       "      <td>STRUM</td>\n",
       "      <td>http://www.kickstarter.com/projects/185476022/...</td>\n",
       "      <td>Film &amp; Video</td>\n",
       "      <td>Animation</td>\n",
       "      <td>Los Angeles, CA</td>\n",
       "      <td>live</td>\n",
       "      <td>20000.0</td>\n",
       "      <td>56.0</td>\n",
       "      <td>0.002800</td>\n",
       "      <td>3</td>\n",
       "      <td>Fri, 08 Jun 2012 00:00:31 -0000</td>\n",
       "      <td>10</td>\n",
       "      <td>$1,$10,$25,$40,$50,$100,$250,$1,000,$1,337,$9,001</td>\n",
       "      <td>1</td>\n",
       "      <td>0</td>\n",
       "      <td>28.00</td>\n",
       "    </tr>\n",
       "    <tr>\n",
       "      <th>3</th>\n",
       "      <td>237090</td>\n",
       "      <td>GETTING OVER - One son's search to finally kno...</td>\n",
       "      <td>http://www.kickstarter.com/projects/charnick/g...</td>\n",
       "      <td>Film &amp; Video</td>\n",
       "      <td>Documentary</td>\n",
       "      <td>Los Angeles, CA</td>\n",
       "      <td>successful</td>\n",
       "      <td>6000.0</td>\n",
       "      <td>6535.0</td>\n",
       "      <td>1.089167</td>\n",
       "      <td>100</td>\n",
       "      <td>Sun, 08 Apr 2012 02:14:00 -0000</td>\n",
       "      <td>13</td>\n",
       "      <td>$1,$10,$25,$30,$50,$75,$85,$100,$110,$250,$500...</td>\n",
       "      <td>4</td>\n",
       "      <td>0</td>\n",
       "      <td>32.22</td>\n",
       "    </tr>\n",
       "    <tr>\n",
       "      <th>4</th>\n",
       "      <td>246101</td>\n",
       "      <td>The Launch of FlyeGrlRoyalty &amp;quot;The New Nam...</td>\n",
       "      <td>http://www.kickstarter.com/projects/flyegrlroy...</td>\n",
       "      <td>Fashion</td>\n",
       "      <td>Fashion</td>\n",
       "      <td>Novi, MI</td>\n",
       "      <td>failed</td>\n",
       "      <td>3500.0</td>\n",
       "      <td>0.0</td>\n",
       "      <td>0.000000</td>\n",
       "      <td>0</td>\n",
       "      <td>Wed, 01 Jun 2011 15:25:39 -0000</td>\n",
       "      <td>6</td>\n",
       "      <td>$10,$25,$50,$100,$150,$250</td>\n",
       "      <td>2</td>\n",
       "      <td>0</td>\n",
       "      <td>30.00</td>\n",
       "    </tr>\n",
       "  </tbody>\n",
       "</table>\n",
       "</div>"
      ],
      "text/plain": [
       "   project id                                               name  \\\n",
       "0       39409                              WHILE THE TREES SLEEP   \n",
       "1      126581               Educational Online Trading Card Game   \n",
       "2      138119                                              STRUM   \n",
       "3      237090  GETTING OVER - One son's search to finally kno...   \n",
       "4      246101  The Launch of FlyeGrlRoyalty &quot;The New Nam...   \n",
       "\n",
       "                                                 url      category  \\\n",
       "0  http://www.kickstarter.com/projects/emiliesaba...  Film & Video   \n",
       "1  http://www.kickstarter.com/projects/972789543/...         Games   \n",
       "2  http://www.kickstarter.com/projects/185476022/...  Film & Video   \n",
       "3  http://www.kickstarter.com/projects/charnick/g...  Film & Video   \n",
       "4  http://www.kickstarter.com/projects/flyegrlroy...       Fashion   \n",
       "\n",
       "          subcategory         location      status     goal  pledged  \\\n",
       "0          Short Film     Columbia, MO  successful  10500.0  11545.0   \n",
       "1  Board & Card Games    Maplewood, NJ      failed   4000.0     20.0   \n",
       "2           Animation  Los Angeles, CA        live  20000.0     56.0   \n",
       "3         Documentary  Los Angeles, CA  successful   6000.0   6535.0   \n",
       "4             Fashion         Novi, MI      failed   3500.0      0.0   \n",
       "\n",
       "   funded percentage  backers                      funded date  levels  \\\n",
       "0           1.099524       66  Fri, 19 Aug 2011 19:28:17 -0000       7   \n",
       "1           0.005000        2  Mon, 02 Aug 2010 03:59:00 -0000       5   \n",
       "2           0.002800        3  Fri, 08 Jun 2012 00:00:31 -0000      10   \n",
       "3           1.089167      100  Sun, 08 Apr 2012 02:14:00 -0000      13   \n",
       "4           0.000000        0  Wed, 01 Jun 2011 15:25:39 -0000       6   \n",
       "\n",
       "                                       reward levels  updates  comments  \\\n",
       "0               $25,$50,$100,$250,$500,$1,000,$2,500       10         2   \n",
       "1                                  $1,$5,$10,$25,$50        6         0   \n",
       "2  $1,$10,$25,$40,$50,$100,$250,$1,000,$1,337,$9,001        1         0   \n",
       "3  $1,$10,$25,$30,$50,$75,$85,$100,$110,$250,$500...        4         0   \n",
       "4                         $10,$25,$50,$100,$150,$250        2         0   \n",
       "\n",
       "   duration  \n",
       "0     30.00  \n",
       "1     47.18  \n",
       "2     28.00  \n",
       "3     32.22  \n",
       "4     30.00  "
      ]
     },
     "execution_count": 1,
     "metadata": {},
     "output_type": "execute_result"
    }
   ],
   "source": [
    "import matplotlib.pyplot as plt\n",
    "import numpy as np\n",
    "import pandas as pd\n",
    "\n",
    "df = pd.read_csv(r'C:\\Users\\Rajashree\\Desktop\\Rajashree-Coursera Assignments\\DSI_kickstarterscrape_dataset.csv')\n",
    "df.head()"
   ]
  },
  {
   "cell_type": "code",
   "execution_count": 2,
   "id": "ad1e5da4",
   "metadata": {},
   "outputs": [
    {
     "data": {
      "text/plain": [
       "4980.749678963979"
      ]
     },
     "execution_count": 2,
     "metadata": {},
     "output_type": "execute_result"
    }
   ],
   "source": [
    "df[\"pledged\"].mean()"
   ]
  },
  {
   "cell_type": "code",
   "execution_count": 25,
   "id": "b687cba4",
   "metadata": {},
   "outputs": [
    {
     "data": {
      "text/plain": [
       "87142"
      ]
     },
     "execution_count": 25,
     "metadata": {},
     "output_type": "execute_result"
    },
    {
     "data": {
      "image/png": "[encoded data removed]",
      "text/plain": [
       "<Figure size 432x288 with 1 Axes>"
      ]
     },
     "metadata": {
      "needs_background": "light"
     },
     "output_type": "display_data"
    }
   ],
   "source": [
    "import matplotlib as mpl\n",
    "import matplotlib.pyplot as plt\n",
    "import numpy as np\n",
    "count, bin_edges = np.histogram(df[\"backers\"])\n",
    "df[\"backers\"].plot(kind = \"hist\", xticks = bin_edges)\n",
    "count\n",
    "df['backers'].max()"
   ]
  },
  {
   "cell_type": "code",
   "execution_count": 4,
   "id": "f2b7adce",
   "metadata": {},
   "outputs": [
    {
     "data": {
      "text/plain": [
       "(0.0, 100.0)"
      ]
     },
     "execution_count": 4,
     "metadata": {},
     "output_type": "execute_result"
    },
    {
     "data": {
      "image/png": "[encoded data removed]",
      "text/plain": [
       "<Figure size 432x288 with 1 Axes>"
      ]
     },
     "metadata": {
      "needs_background": "light"
     },
     "output_type": "display_data"
    }
   ],
   "source": [
    "\n",
    "import matplotlib as mpl\n",
    "import matplotlib.pyplot as plt\n",
    "import numpy as np\n",
    "df1=df.sort_values(by=['backers'])\n",
    "df1[\"backers\"].plot(kind = \"hist\")\n",
    "plt.xlim(xmin=0, xmax=100)\n"
   ]
  },
  {
   "cell_type": "markdown",
   "id": "e96bb082",
   "metadata": {},
   "source": []
  },
  {
   "cell_type": "code",
   "execution_count": 5,
   "id": "1bd2c5be",
   "metadata": {},
   "outputs": [
    {
     "data": {
      "text/plain": [
       "array([  577,  1997,  3897, 20086,  7391,  2227,  6673,   602,   415,\n",
       "        2092], dtype=int64)"
      ]
     },
     "execution_count": 5,
     "metadata": {},
     "output_type": "execute_result"
    },
    {
     "data": {
      "image/png": "[encoded data removed]",
      "text/plain": [
       "<Figure size 432x288 with 1 Axes>"
      ]
     },
     "metadata": {
      "needs_background": "light"
     },
     "output_type": "display_data"
    }
   ],
   "source": [
    "count, bin_edges = np.histogram(df[\"duration\"])\n",
    "df[\"duration\"].plot(kind = \"hist\", xticks = bin_edges)\n",
    "count"
   ]
  },
  {
   "cell_type": "code",
   "execution_count": 6,
   "id": "6681d5cd",
   "metadata": {},
   "outputs": [
    {
     "data": {
      "text/plain": [
       "15066.0"
      ]
     },
     "execution_count": 6,
     "metadata": {},
     "output_type": "execute_result"
    }
   ],
   "source": [
    "maximum_funding = df[\"funded percentage\"].max()\n",
    "maximum_funding"
   ]
  },
  {
   "cell_type": "code",
   "execution_count": 7,
   "id": "6c1796c1",
   "metadata": {},
   "outputs": [
    {
     "data": {
      "text/plain": [
       "6628    49.27\n",
       "Name: duration, dtype: float64"
      ]
     },
     "execution_count": 7,
     "metadata": {},
     "output_type": "execute_result"
    }
   ],
   "source": [
    "df.loc[df['funded percentage']==maximum_funding,'duration']"
   ]
  },
  {
   "cell_type": "code",
   "execution_count": 21,
   "id": "f6b0cf00",
   "metadata": {
    "scrolled": true
   },
   "outputs": [
    {
     "data": {
      "text/plain": [
       "<matplotlib.collections.PathCollection at 0x18bff14f9d0>"
      ]
     },
     "execution_count": 21,
     "metadata": {},
     "output_type": "execute_result"
    },
    {
     "data": {
      "image/png": "[encoded data removed]",
      "text/plain": [
       "<Figure size 432x288 with 1 Axes>"
      ]
     },
     "metadata": {
      "needs_background": "light"
     },
     "output_type": "display_data"
    }
   ],
   "source": [
    "y=df['duration']\n",
    "x=df['funded percentage']\n",
    "plt.scatter(x,y)"
   ]
  },
  {
   "cell_type": "code",
   "execution_count": 17,
   "id": "6c8039b9",
   "metadata": {
    "scrolled": true
   },
   "outputs": [
    {
     "data": {
      "text/plain": [
       "Text(0, 0.5, 'Days')"
      ]
     },
     "execution_count": 17,
     "metadata": {},
     "output_type": "execute_result"
    },
    {
     "data": {
      "image/png": "[encoded data removed]",
      "text/plain": [
       "<Figure size 432x288 with 1 Axes>"
      ]
     },
     "metadata": {
      "needs_background": "light"
     },
     "output_type": "display_data"
    }
   ],
   "source": [
    "df.groupby('status').duration.mean().plot(kind ='box')\n",
    "plt.title('Best length of time to run campaign)\n",
    "plt.ylabel('Days')"
   ]
  },
  {
   "cell_type": "code",
   "execution_count": 24,
   "id": "f575afb7",
   "metadata": {},
   "outputs": [
    {
     "data": {
      "text/plain": [
       "count    22969.000000\n",
       "mean        37.960475\n",
       "std         16.651234\n",
       "min          1.000000\n",
       "25%         30.000000\n",
       "50%         31.000000\n",
       "75%         45.000000\n",
       "max         91.960000\n",
       "Name: duration, dtype: float64"
      ]
     },
     "execution_count": 24,
     "metadata": {},
     "output_type": "execute_result"
    },
    {
     "data": {
      "image/png": "[encoded data removed]",
      "text/plain": [
       "<Figure size 432x288 with 1 Axes>"
      ]
     },
     "metadata": {
      "needs_background": "light"
     },
     "output_type": "display_data"
    }
   ],
   "source": [
    "df1=df[df['status']=='successful']\n",
    "df1['duration'].plot(kind =\"box\")\n",
    "plt.title('Best length of time to run campaign')\n",
    "df1['duration'].describe()\n"
   ]
  },
  {
   "cell_type": "code",
   "execution_count": 31,
   "id": "e920792d",
   "metadata": {
    "scrolled": true
   },
   "outputs": [
    {
     "data": {
      "image/png": "[encoded data removed]",
      "text/plain": [
       "<Figure size 432x288 with 1 Axes>"
      ]
     },
     "metadata": {
      "needs_background": "light"
     },
     "output_type": "display_data"
    }
   ],
   "source": [
    "df1=df[df['status']=='successful']\n",
    "\n",
    "avg_goal=df1.groupby('category').goal.mean()\n",
    "avg_goal.plot(kind = \"bar\")\n",
    "\n",
    "plt.title(\"successful category vs goal\")\n",
    "\n"
   ]
  },
  {
   "cell_type": "code",
   "execution_count": 36,
   "id": "95707fac",
   "metadata": {},
   "outputs": [
    {
     "data": {
      "text/plain": [
       "Film &amp; Video    5962\n",
       "Music               3261\n",
       "Publishing          2484\n",
       "Art                 1585\n",
       "Design               837\n",
       "Games                832\n",
       "Photography          742\n",
       "Fashion              684\n",
       "Theater              680\n",
       "Food                 643\n",
       "Comics               448\n",
       "Technology           448\n",
       "Film & Video         210\n",
       "Dance                180\n",
       "Name: category, dtype: int64"
      ]
     },
     "execution_count": 36,
     "metadata": {},
     "output_type": "execute_result"
    },
    {
     "data": {
      "image/png": "[encoded data removed]",
      "text/plain": [
       "<Figure size 432x288 with 1 Axes>"
      ]
     },
     "metadata": {
      "needs_background": "light"
     },
     "output_type": "display_data"
    }
   ],
   "source": [
    "df2=df[df['status']=='failed']\n",
    "df_categorycount = df2['category'].value_counts()\n",
    "df_categorycount.plot(kind = \"bar\")\n",
    "plt.title('failed business')\n",
    "df2['category'].value_counts()\n"
   ]
  },
  {
   "cell_type": "code",
   "execution_count": 37,
   "id": "3d6e9ddd",
   "metadata": {
    "scrolled": true
   },
   "outputs": [
    {
     "data": {
      "text/plain": [
       "Music               6792\n",
       "Film &amp; Video    6177\n",
       "Art                 2106\n",
       "Publishing          1671\n",
       "Theater             1642\n",
       "Design               729\n",
       "Food                 655\n",
       "Photography          645\n",
       "Games                635\n",
       "Dance                527\n",
       "Comics               520\n",
       "Fashion              335\n",
       "Technology           289\n",
       "Film & Video         246\n",
       "Name: category, dtype: int64"
      ]
     },
     "execution_count": 37,
     "metadata": {},
     "output_type": "execute_result"
    },
    {
     "data": {
      "image/png": "[encoded data removed]",
      "text/plain": [
       "<Figure size 432x288 with 1 Axes>"
      ]
     },
     "metadata": {
      "needs_background": "light"
     },
     "output_type": "display_data"
    }
   ],
   "source": [
    "df1=df[df['status']=='successful']\n",
    "df_categorycount = df1['category'].value_counts()\n",
    "df_categorycount.plot(kind = \"bar\")\n",
    "df1['category'].value_counts()\n"
   ]
  },
  {
   "cell_type": "code",
   "execution_count": 12,
   "id": "cd855423",
   "metadata": {},
   "outputs": [
    {
     "data": {
      "text/plain": [
       "<AxesSubplot:>"
      ]
     },
     "execution_count": 12,
     "metadata": {},
     "output_type": "execute_result"
    },
    {
     "data": {
      "image/png": "[encoded data removed]",
      "text/plain": [
       "<Figure size 432x288 with 1 Axes>"
      ]
     },
     "metadata": {
      "needs_background": "light"
     },
     "output_type": "display_data"
    }
   ],
   "source": [
    "df1=df[df['status']=='successful']\n",
    "df_fundeddate = df1['funded date'].value_counts()\n",
    "df_fundeddate.plot(kind = \"bar\")\n"
   ]
  },
  {
   "cell_type": "code",
   "execution_count": 13,
   "id": "6efe8f27",
   "metadata": {},
   "outputs": [
    {
     "data": {
      "text/html": [
       "<div>\n",
       "<style scoped>\n",
       "    .dataframe tbody tr th:only-of-type {\n",
       "        vertical-align: middle;\n",
       "    }\n",
       "\n",
       "    .dataframe tbody tr th {\n",
       "        vertical-align: top;\n",
       "    }\n",
       "\n",
       "    .dataframe thead th {\n",
       "        text-align: right;\n",
       "    }\n",
       "</style>\n",
       "<table border=\"1\" class=\"dataframe\">\n",
       "  <thead>\n",
       "    <tr style=\"text-align: right;\">\n",
       "      <th></th>\n",
       "      <th>project id</th>\n",
       "      <th>goal</th>\n",
       "      <th>pledged</th>\n",
       "      <th>funded percentage</th>\n",
       "      <th>backers</th>\n",
       "      <th>levels</th>\n",
       "      <th>updates</th>\n",
       "      <th>comments</th>\n",
       "      <th>duration</th>\n",
       "    </tr>\n",
       "  </thead>\n",
       "  <tbody>\n",
       "    <tr>\n",
       "      <th>project id</th>\n",
       "      <td>1.000000</td>\n",
       "      <td>-0.006862</td>\n",
       "      <td>-0.001762</td>\n",
       "      <td>-0.004456</td>\n",
       "      <td>0.003878</td>\n",
       "      <td>-0.000822</td>\n",
       "      <td>-0.003015</td>\n",
       "      <td>-0.002917</td>\n",
       "      <td>0.002657</td>\n",
       "    </tr>\n",
       "    <tr>\n",
       "      <th>goal</th>\n",
       "      <td>-0.006862</td>\n",
       "      <td>1.000000</td>\n",
       "      <td>0.020919</td>\n",
       "      <td>-0.001022</td>\n",
       "      <td>0.028017</td>\n",
       "      <td>0.016494</td>\n",
       "      <td>-0.003265</td>\n",
       "      <td>0.029201</td>\n",
       "      <td>0.024514</td>\n",
       "    </tr>\n",
       "    <tr>\n",
       "      <th>pledged</th>\n",
       "      <td>-0.001762</td>\n",
       "      <td>0.020919</td>\n",
       "      <td>1.000000</td>\n",
       "      <td>0.008401</td>\n",
       "      <td>0.829452</td>\n",
       "      <td>0.070600</td>\n",
       "      <td>0.098482</td>\n",
       "      <td>0.554628</td>\n",
       "      <td>0.001281</td>\n",
       "    </tr>\n",
       "    <tr>\n",
       "      <th>funded percentage</th>\n",
       "      <td>-0.004456</td>\n",
       "      <td>-0.001022</td>\n",
       "      <td>0.008401</td>\n",
       "      <td>1.000000</td>\n",
       "      <td>0.005466</td>\n",
       "      <td>0.000213</td>\n",
       "      <td>0.015239</td>\n",
       "      <td>0.004800</td>\n",
       "      <td>-0.003164</td>\n",
       "    </tr>\n",
       "    <tr>\n",
       "      <th>backers</th>\n",
       "      <td>0.003878</td>\n",
       "      <td>0.028017</td>\n",
       "      <td>0.829452</td>\n",
       "      <td>0.005466</td>\n",
       "      <td>1.000000</td>\n",
       "      <td>0.077863</td>\n",
       "      <td>0.112467</td>\n",
       "      <td>0.695778</td>\n",
       "      <td>-0.006810</td>\n",
       "    </tr>\n",
       "    <tr>\n",
       "      <th>levels</th>\n",
       "      <td>-0.000822</td>\n",
       "      <td>0.016494</td>\n",
       "      <td>0.070600</td>\n",
       "      <td>0.000213</td>\n",
       "      <td>0.077863</td>\n",
       "      <td>1.000000</td>\n",
       "      <td>0.248861</td>\n",
       "      <td>0.089719</td>\n",
       "      <td>0.029563</td>\n",
       "    </tr>\n",
       "    <tr>\n",
       "      <th>updates</th>\n",
       "      <td>-0.003015</td>\n",
       "      <td>-0.003265</td>\n",
       "      <td>0.098482</td>\n",
       "      <td>0.015239</td>\n",
       "      <td>0.112467</td>\n",
       "      <td>0.248861</td>\n",
       "      <td>1.000000</td>\n",
       "      <td>0.103498</td>\n",
       "      <td>0.059566</td>\n",
       "    </tr>\n",
       "    <tr>\n",
       "      <th>comments</th>\n",
       "      <td>-0.002917</td>\n",
       "      <td>0.029201</td>\n",
       "      <td>0.554628</td>\n",
       "      <td>0.004800</td>\n",
       "      <td>0.695778</td>\n",
       "      <td>0.089719</td>\n",
       "      <td>0.103498</td>\n",
       "      <td>1.000000</td>\n",
       "      <td>-0.006642</td>\n",
       "    </tr>\n",
       "    <tr>\n",
       "      <th>duration</th>\n",
       "      <td>0.002657</td>\n",
       "      <td>0.024514</td>\n",
       "      <td>0.001281</td>\n",
       "      <td>-0.003164</td>\n",
       "      <td>-0.006810</td>\n",
       "      <td>0.029563</td>\n",
       "      <td>0.059566</td>\n",
       "      <td>-0.006642</td>\n",
       "      <td>1.000000</td>\n",
       "    </tr>\n",
       "  </tbody>\n",
       "</table>\n",
       "</div>"
      ],
      "text/plain": [
       "                   project id      goal   pledged  funded percentage  \\\n",
       "project id           1.000000 -0.006862 -0.001762          -0.004456   \n",
       "goal                -0.006862  1.000000  0.020919          -0.001022   \n",
       "pledged             -0.001762  0.020919  1.000000           0.008401   \n",
       "funded percentage   -0.004456 -0.001022  0.008401           1.000000   \n",
       "backers              0.003878  0.028017  0.829452           0.005466   \n",
       "levels              -0.000822  0.016494  0.070600           0.000213   \n",
       "updates             -0.003015 -0.003265  0.098482           0.015239   \n",
       "comments            -0.002917  0.029201  0.554628           0.004800   \n",
       "duration             0.002657  0.024514  0.001281          -0.003164   \n",
       "\n",
       "                    backers    levels   updates  comments  duration  \n",
       "project id         0.003878 -0.000822 -0.003015 -0.002917  0.002657  \n",
       "goal               0.028017  0.016494 -0.003265  0.029201  0.024514  \n",
       "pledged            0.829452  0.070600  0.098482  0.554628  0.001281  \n",
       "funded percentage  0.005466  0.000213  0.015239  0.004800 -0.003164  \n",
       "backers            1.000000  0.077863  0.112467  0.695778 -0.006810  \n",
       "levels             0.077863  1.000000  0.248861  0.089719  0.029563  \n",
       "updates            0.112467  0.248861  1.000000  0.103498  0.059566  \n",
       "comments           0.695778  0.089719  0.103498  1.000000 -0.006642  \n",
       "duration          -0.006810  0.029563  0.059566 -0.006642  1.000000  "
      ]
     },
     "execution_count": 13,
     "metadata": {},
     "output_type": "execute_result"
    }
   ],
   "source": [
    "df.corr()"
   ]
  },
  {
   "cell_type": "code",
   "execution_count": 14,
   "id": "edbdf969",
   "metadata": {},
   "outputs": [
    {
     "data": {
      "text/plain": [
       "project id             int64\n",
       "name                  object\n",
       "url                   object\n",
       "category              object\n",
       "subcategory           object\n",
       "location              object\n",
       "status                object\n",
       "goal                 float64\n",
       "pledged              float64\n",
       "funded percentage    float64\n",
       "backers                int64\n",
       "funded date           object\n",
       "levels                 int64\n",
       "reward levels         object\n",
       "updates                int64\n",
       "comments               int64\n",
       "duration             float64\n",
       "dtype: object"
      ]
     },
     "execution_count": 14,
     "metadata": {},
     "output_type": "execute_result"
    }
   ],
   "source": [
    "df.dtypes"
   ]
  },
  {
   "cell_type": "code",
   "execution_count": null,
   "id": "57dfc6e2",
   "metadata": {},
   "outputs": [],
   "source": []
  },
  {
   "cell_type": "code",
   "execution_count": null,
   "id": "7e2a01a3",
   "metadata": {},
   "outputs": [],
   "source": []
  }
 ],
 "metadata": {
  "kernelspec": {
   "display_name": "Python 3",
   "language": "python",
   "name": "python3"
  },
  "language_info": {
   "codemirror_mode": {
    "name": "ipython",
    "version": 3
   },
   "file_extension": ".py",
   "mimetype": "text/x-python",
   "name": "python",
   "nbconvert_exporter": "python",
   "pygments_lexer": "ipython3",
   "version": "3.8.8"
  }
 },
 "nbformat": 4,
 "nbformat_minor": 5
}
